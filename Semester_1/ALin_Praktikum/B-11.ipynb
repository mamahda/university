{
 "cells": [
  {
   "cell_type": "markdown",
   "metadata": {},
   "source": [
    "#### Praktikum Aljabar Linear No.39 "
   ]
  },
  {
   "cell_type": "markdown",
   "metadata": {},
   "source": [
    "Manual"
   ]
  },
  {
   "cell_type": "code",
   "execution_count": null,
   "metadata": {},
   "outputs": [
    {
     "name": "stdout",
     "output_type": "stream",
     "text": [
      "Kofaktor 1 (1,2) = -250\n",
      "Kofaktor 2 (2,2) = 441\n",
      "Kofaktor 3 (3,2) = 135\n",
      "Determinan dari A = 326\n"
     ]
    }
   ],
   "source": [
    "import numpy as np\n",
    "\n",
    "A = np.array([[7, -5, 4],\n",
    "              [-5, 9, -5],\n",
    "              [-7, 9, 3]]) \n",
    "\n",
    "def determinant_cofactor_colum_2(matrix):\n",
    "    cofactor1 = matrix[0,1] * ((matrix[1,0] * matrix[2,2]) - (matrix[1,2] * matrix[2,0]))\n",
    "    cofactor2 = matrix[1,1] * ((matrix[0,0] * matrix[2,2]) - (matrix[0,2] * matrix[2,0]))\n",
    "    cofactor3 = matrix[2,1] * ((matrix[0,0] * matrix[1,2]) - (matrix[1,0] * matrix[0,2]))\n",
    "\n",
    "    print(\"Kofaktor 1 (1,2) =\", round(cofactor1, 2))\n",
    "    print(\"Kofaktor 2 (2,2) =\", round(cofactor2, 2))\n",
    "    print(\"Kofaktor 3 (3,2) =\", round(cofactor3, 2))\n",
    "\n",
    "    return -cofactor1 + cofactor2 - cofactor3\n",
    "\n",
    "detA = determinant_cofactor_colum_2(A)\n",
    "print(\"Determinan dari A =\", round(detA, 2))"
   ]
  },
  {
   "cell_type": "markdown",
   "metadata": {},
   "source": [
    "Using numpy built-in syntax"
   ]
  },
  {
   "cell_type": "code",
   "execution_count": null,
   "metadata": {},
   "outputs": [],
   "source": [
    "import numpy as np\n",
    "\n",
    "A = np.array([[7, -5, 4],\n",
    "              [-5, 9, -5],\n",
    "              [-7, 9, 3]])\n",
    "\n",
    "def determinant_cofactor_colum_2(matrix):\n",
    "    cofactor1 = matrix[0, 1] * np.linalg.det(np.delete(np.delete(matrix, 0, axis=0), 1, axis=1))\n",
    "    cofactor2 = matrix[1, 1] * np.linalg.det(np.delete(np.delete(matrix, 1, axis=0), 1, axis=1))\n",
    "    cofactor3 = matrix[2, 1] * np.linalg.det(np.delete(np.delete(matrix, 2, axis=0), 1, axis=1))\n",
    "    return -cofactor1 + cofactor2 - cofactor3\n",
    "\n",
    "detA = determinant_cofactor_colum_2(A)\n",
    "print(round(detA))"
   ]
  }
 ],
 "metadata": {
  "kernelspec": {
   "display_name": "Python 3",
   "language": "python",
   "name": "python3"
  },
  "language_info": {
   "codemirror_mode": {
    "name": "ipython",
    "version": 3
   },
   "file_extension": ".py",
   "mimetype": "text/x-python",
   "name": "python",
   "nbconvert_exporter": "python",
   "pygments_lexer": "ipython3",
   "version": "3.12.7"
  }
 },
 "nbformat": 4,
 "nbformat_minor": 2
}
